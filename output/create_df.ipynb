{
 "cells": [
  {
   "cell_type": "code",
   "execution_count": 4,
   "metadata": {
    "collapsed": true
   },
   "outputs": [],
   "source": [
    "import pandas as pd\n",
    "import numpy as np"
   ]
  },
  {
   "cell_type": "code",
   "execution_count": 5,
   "metadata": {
    "collapsed": false
   },
   "outputs": [
    {
     "name": "stdout",
     "output_type": "stream",
     "text": [
      "2017-09-06 14:02:09,660 - findatapy.market.datavendorweb - INFO - Request Pandas Web data\n",
      "2017-09-06 14:02:11,435 - findatapy.market.datavendorweb - INFO - Completed request from Pandas Web.\n",
      "2017-09-06 14:02:11,510 - findatapy.market.ioengine - WARNING - Couldn't push MarketDataRequest_359__abstract_curve_key-None__category-None__category_key-backtest_default-cat_fred_daily_NYC__cut-NYC__data_source-fred__environment-backtest__expiry_date-None__fields-close__finish_date-2017-09-06 05:01:47_143154__freq-daily__freq_mult-1__gran_freq-None__start_date-2000-06-01 00:00:00__tickers-DGS10__trade_side-trade__vendor_fields-close__vendor_tickers-DGS10 to Redis: Error 61 connecting to 127.0.0.1:6379. Connection refused.\n"
     ]
    }
   ],
   "source": [
    "if __name__ == '__main__':\n",
    "    from findatapy.util import SwimPool; SwimPool()\n",
    "\n",
    "    from findatapy.market import Market, MarketDataRequest, MarketDataGenerator\n",
    "\n",
    "    market = Market(market_data_generator=MarketDataGenerator())\n",
    "\n",
    "    md_request = MarketDataRequest(\n",
    "        start_date=\"01 Jun 2000\",\n",
    "        data_source='fred',tickers=['DGS10'],\n",
    "        fields=['close'],\n",
    "        vendor_tickers=['DGS10'], \n",
    "        vendor_fields=['close'])\n",
    "    \n",
    "    df = market.fetch_market(md_request)"
   ]
  },
  {
   "cell_type": "code",
   "execution_count": 6,
   "metadata": {
    "collapsed": false
   },
   "outputs": [
    {
     "data": {
      "text/html": [
       "<div>\n",
       "<table border=\"1\" class=\"dataframe\">\n",
       "  <thead>\n",
       "    <tr style=\"text-align: right;\">\n",
       "      <th></th>\n",
       "      <th>ds</th>\n",
       "      <th>y</th>\n",
       "    </tr>\n",
       "  </thead>\n",
       "  <tbody>\n",
       "    <tr>\n",
       "      <th>0</th>\n",
       "      <td>2000-06-01</td>\n",
       "      <td>1.824549</td>\n",
       "    </tr>\n",
       "    <tr>\n",
       "      <th>1</th>\n",
       "      <td>2000-06-02</td>\n",
       "      <td>1.816452</td>\n",
       "    </tr>\n",
       "    <tr>\n",
       "      <th>2</th>\n",
       "      <td>2000-06-05</td>\n",
       "      <td>1.811562</td>\n",
       "    </tr>\n",
       "    <tr>\n",
       "      <th>3</th>\n",
       "      <td>2000-06-06</td>\n",
       "      <td>1.814825</td>\n",
       "    </tr>\n",
       "    <tr>\n",
       "      <th>4</th>\n",
       "      <td>2000-06-07</td>\n",
       "      <td>1.813195</td>\n",
       "    </tr>\n",
       "  </tbody>\n",
       "</table>\n",
       "</div>"
      ],
      "text/plain": [
       "          ds         y\n",
       "0 2000-06-01  1.824549\n",
       "1 2000-06-02  1.816452\n",
       "2 2000-06-05  1.811562\n",
       "3 2000-06-06  1.814825\n",
       "4 2000-06-07  1.813195"
      ]
     },
     "execution_count": 6,
     "metadata": {},
     "output_type": "execute_result"
    }
   ],
   "source": [
    "df = df.reset_index()\n",
    "df = df.rename(columns={'Date':'ds','DGS10.close':'y'})\n",
    "df['y'] = np.log(df['y'])\n",
    "df.head()"
   ]
  },
  {
   "cell_type": "code",
   "execution_count": 7,
   "metadata": {
    "collapsed": false
   },
   "outputs": [
    {
     "data": {
      "text/html": [
       "<div>\n",
       "<table border=\"1\" class=\"dataframe\">\n",
       "  <thead>\n",
       "    <tr style=\"text-align: right;\">\n",
       "      <th></th>\n",
       "      <th>ds</th>\n",
       "      <th>y</th>\n",
       "    </tr>\n",
       "  </thead>\n",
       "  <tbody>\n",
       "    <tr>\n",
       "      <th>4497</th>\n",
       "      <td>2017-08-28</td>\n",
       "      <td>0.770108</td>\n",
       "    </tr>\n",
       "    <tr>\n",
       "      <th>4498</th>\n",
       "      <td>2017-08-29</td>\n",
       "      <td>0.756122</td>\n",
       "    </tr>\n",
       "    <tr>\n",
       "      <th>4499</th>\n",
       "      <td>2017-08-30</td>\n",
       "      <td>0.765468</td>\n",
       "    </tr>\n",
       "    <tr>\n",
       "      <th>4500</th>\n",
       "      <td>2017-08-31</td>\n",
       "      <td>0.751416</td>\n",
       "    </tr>\n",
       "    <tr>\n",
       "      <th>4501</th>\n",
       "      <td>2017-09-01</td>\n",
       "      <td>0.770108</td>\n",
       "    </tr>\n",
       "  </tbody>\n",
       "</table>\n",
       "</div>"
      ],
      "text/plain": [
       "             ds         y\n",
       "4497 2017-08-28  0.770108\n",
       "4498 2017-08-29  0.756122\n",
       "4499 2017-08-30  0.765468\n",
       "4500 2017-08-31  0.751416\n",
       "4501 2017-09-01  0.770108"
      ]
     },
     "execution_count": 7,
     "metadata": {},
     "output_type": "execute_result"
    }
   ],
   "source": [
    "#fill forward values when the datasets has N/A\n",
    "df.isnull().sum()\n",
    "df.fillna(method='ffill').tail()"
   ]
  },
  {
   "cell_type": "code",
   "execution_count": 8,
   "metadata": {
    "collapsed": true
   },
   "outputs": [],
   "source": [
    "df = pd.read_csv('output.csv')"
   ]
  },
  {
   "cell_type": "code",
   "execution_count": null,
   "metadata": {
    "collapsed": true
   },
   "outputs": [],
   "source": []
  }
 ],
 "metadata": {
  "kernelspec": {
   "display_name": "Python 3",
   "language": "python",
   "name": "python3"
  },
  "language_info": {
   "codemirror_mode": {
    "name": "ipython",
    "version": 3
   },
   "file_extension": ".py",
   "mimetype": "text/x-python",
   "name": "python",
   "nbconvert_exporter": "python",
   "pygments_lexer": "ipython3",
   "version": "3.6.0"
  }
 },
 "nbformat": 4,
 "nbformat_minor": 2
}
