{
 "cells": [
  {
   "cell_type": "code",
   "execution_count": 1,
   "metadata": {
    "collapsed": true
   },
   "outputs": [],
   "source": [
    "import pandas as pd"
   ]
  },
  {
   "cell_type": "code",
   "execution_count": 2,
   "metadata": {
    "collapsed": true
   },
   "outputs": [],
   "source": [
    "events = pd.DataFrame({\n",
    "    'holiday':'publish',\n",
    "    'ds':pd.to_datetime(['2000-02-02','2000-03-21','2001-03-20','2001-04-18','2001-05-15',\n",
    "                         '2001-07-27','2001-09-17','2001-10-02','2004-01-30','2004-08-10',\n",
    "                         '2004-09-21','2004-11-10','2005-02-02','2005-03-22','2005-05-03',\n",
    "                         '2005-07-30','2006-01-31','2006-03-28','2006-05-10','2006-07-29',\n",
    "                         '2007-12-11','2008-01-30','2008-03-18','2008-04-30','2008-10-08',\n",
    "                         '2008-10-29','2017-01-14','2017-03-15']),\n",
    "    'lower_windows': 0,\n",
    "    'upper_windows': 5,\n",
    "})"
   ]
  },
  {
   "cell_type": "code",
   "execution_count": 5,
   "metadata": {
    "collapsed": false
   },
   "outputs": [],
   "source": [
    "events.to_csv('event.csv',sep=',')"
   ]
  },
  {
   "cell_type": "code",
   "execution_count": null,
   "metadata": {
    "collapsed": true
   },
   "outputs": [],
   "source": []
  }
 ],
 "metadata": {
  "kernelspec": {
   "display_name": "Python 3",
   "language": "python",
   "name": "python3"
  },
  "language_info": {
   "codemirror_mode": {
    "name": "ipython",
    "version": 3
   },
   "file_extension": ".py",
   "mimetype": "text/x-python",
   "name": "python",
   "nbconvert_exporter": "python",
   "pygments_lexer": "ipython3",
   "version": "3.6.0"
  }
 },
 "nbformat": 4,
 "nbformat_minor": 2
}
